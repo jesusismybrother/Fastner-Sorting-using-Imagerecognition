{
 "cells": [
  {
   "cell_type": "code",
   "execution_count": 2,
   "metadata": {},
   "outputs": [],
   "source": [
    "#!/usr/bin/python\n",
    "from PIL import Image\n",
    "import os, sys\n",
    "\n",
    "path = \"C:/Users/maxim/Documents/Python/data/Train2/mutter\"\n",
    "dirs = os.listdir( path )\n",
    "\n",
    "def resize():\n",
    "    for item in dirs:\n",
    "        if os.path.isfile(path+item):\n",
    "            im = Image.open(path+item)\n",
    "            f, e = os.path.splitext(path+item)\n",
    "            imResize = im.resize((256,256), Image.ANTIALIAS)\n",
    "            imResize.save(f + ' resized.jpg', 'JPEG', quality=90)\n",
    "\n",
    "resize()"
   ]
  },
  {
   "cell_type": "code",
   "execution_count": 10,
   "metadata": {},
   "outputs": [],
   "source": [
    "import PIL\n",
    "import os\n",
    "import os.path\n",
    "from PIL import Image\n",
    "\n",
    "f = r\"C:/Users/maxim/Documents/Python/data/Test2/sechskantschraube\"\n",
    "for file in os.listdir(f):\n",
    "    f_img = f+\"/\"+file\n",
    "    img = Image.open(f_img)\n",
    "    img = img.resize((256,256))\n",
    "    img.save(f_img)"
   ]
  }
 ],
 "metadata": {
  "kernelspec": {
   "display_name": "Python 3",
   "language": "python",
   "name": "python3"
  },
  "language_info": {
   "codemirror_mode": {
    "name": "ipython",
    "version": 3
   },
   "file_extension": ".py",
   "mimetype": "text/x-python",
   "name": "python",
   "nbconvert_exporter": "python",
   "pygments_lexer": "ipython3",
   "version": "3.7.7"
  }
 },
 "nbformat": 4,
 "nbformat_minor": 4
}
